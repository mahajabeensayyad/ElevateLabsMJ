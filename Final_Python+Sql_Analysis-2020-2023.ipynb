{
 "cells": [
  {
   "cell_type": "markdown",
   "id": "1eb5e32a-0ebe-46dd-976c-7dce83d0e80b",
   "metadata": {},
   "source": [
    "# **Retail Business Performance & Profitability Analysis - 2020-2023**"
   ]
  },
  {
   "cell_type": "markdown",
   "id": "d6a7b732-6f67-4931-993d-f5ee7d405b9a",
   "metadata": {},
   "source": [
    "## Import Libraries"
   ]
  },
  {
   "cell_type": "code",
   "execution_count": 2,
   "id": "40c843bd-8a0f-417f-b801-e81999061bd9",
   "metadata": {},
   "outputs": [],
   "source": [
    "import pandas as pd\n",
    "import numpy as np\n",
    "import matplotlib.pyplot as plt \n",
    "import seaborn as sns\n",
    "import sqlite3"
   ]
  },
  {
   "cell_type": "markdown",
   "id": "357918db-33c4-4eea-b823-a7b3897a2f5a",
   "metadata": {},
   "source": [
    "## Import Dataset"
   ]
  },
  {
   "cell_type": "code",
   "execution_count": 2,
   "id": "f98645ba-b70e-4e3a-a0ad-916f3c9f72b9",
   "metadata": {},
   "outputs": [],
   "source": [
    "df = pd.read_csv('C:/Users/91998/Desktop/Using another Dataset for Practicing or real one/Retail_Sales_Data - Copy.csv')"
   ]
  },
  {
   "cell_type": "markdown",
   "id": "104f6513-4e72-4257-948d-e226d00a193e",
   "metadata": {},
   "source": [
    "## View Sample data - Top Rows"
   ]
  },
  {
   "cell_type": "code",
   "execution_count": 3,
   "id": "7e55e214-70af-41bf-aad9-3a3802f51232",
   "metadata": {},
   "outputs": [
    {
     "data": {
      "text/html": [
       "<div>\n",
       "<style scoped>\n",
       "    .dataframe tbody tr th:only-of-type {\n",
       "        vertical-align: middle;\n",
       "    }\n",
       "\n",
       "    .dataframe tbody tr th {\n",
       "        vertical-align: top;\n",
       "    }\n",
       "\n",
       "    .dataframe thead th {\n",
       "        text-align: right;\n",
       "    }\n",
       "</style>\n",
       "<table border=\"1\" class=\"dataframe\">\n",
       "  <thead>\n",
       "    <tr style=\"text-align: right;\">\n",
       "      <th></th>\n",
       "      <th>Transaction_ID</th>\n",
       "      <th>Date</th>\n",
       "      <th>Customer_Name</th>\n",
       "      <th>Customer_ID</th>\n",
       "      <th>Product</th>\n",
       "      <th>Customer_Category</th>\n",
       "      <th>Season</th>\n",
       "      <th>Basket_Size</th>\n",
       "      <th>Product_Category</th>\n",
       "      <th>Category</th>\n",
       "      <th>Sub_Category</th>\n",
       "      <th>Payment_Method</th>\n",
       "      <th>City</th>\n",
       "      <th>Store_Type</th>\n",
       "      <th>Discount_Applied</th>\n",
       "      <th>Promotion</th>\n",
       "      <th>Unit_Price</th>\n",
       "      <th>Cost_Per_Item</th>\n",
       "      <th>Profit</th>\n",
       "      <th>Total_Items</th>\n",
       "    </tr>\n",
       "  </thead>\n",
       "  <tbody>\n",
       "    <tr>\n",
       "      <th>0</th>\n",
       "      <td>1000000000</td>\n",
       "      <td>21-01-2022 06:27</td>\n",
       "      <td>Stacey Price</td>\n",
       "      <td>118350</td>\n",
       "      <td>['Ketchup', 'Shaving Cream', 'Light Bulbs']</td>\n",
       "      <td>Homemaker</td>\n",
       "      <td>Winter</td>\n",
       "      <td>3</td>\n",
       "      <td>Ketchup</td>\n",
       "      <td>Condiments</td>\n",
       "      <td>Ketchup</td>\n",
       "      <td>Mobile Payment</td>\n",
       "      <td>Los Angeles</td>\n",
       "      <td>Warehouse Club</td>\n",
       "      <td>True</td>\n",
       "      <td>NaN</td>\n",
       "      <td>23.88</td>\n",
       "      <td>12.24</td>\n",
       "      <td>34.94</td>\n",
       "      <td>3</td>\n",
       "    </tr>\n",
       "    <tr>\n",
       "      <th>1</th>\n",
       "      <td>1000000001</td>\n",
       "      <td>01-03-2023 13:01</td>\n",
       "      <td>Michelle Carlson</td>\n",
       "      <td>322706</td>\n",
       "      <td>['Ice Cream', 'Milk', 'Olive Oil', 'Bread', 'P...</td>\n",
       "      <td>Professional</td>\n",
       "      <td>Fall</td>\n",
       "      <td>5</td>\n",
       "      <td>Ice Cream</td>\n",
       "      <td>Dairy</td>\n",
       "      <td>Ice Cream</td>\n",
       "      <td>Cash</td>\n",
       "      <td>San Francisco</td>\n",
       "      <td>Specialty Store</td>\n",
       "      <td>True</td>\n",
       "      <td>BOGO (Buy One Get One)</td>\n",
       "      <td>12.97</td>\n",
       "      <td>8.88</td>\n",
       "      <td>8.16</td>\n",
       "      <td>2</td>\n",
       "    </tr>\n",
       "  </tbody>\n",
       "</table>\n",
       "</div>"
      ],
      "text/plain": [
       "   Transaction_ID              Date     Customer_Name  Customer_ID  \\\n",
       "0      1000000000  21-01-2022 06:27      Stacey Price       118350   \n",
       "1      1000000001  01-03-2023 13:01  Michelle Carlson       322706   \n",
       "\n",
       "                                             Product Customer_Category  \\\n",
       "0        ['Ketchup', 'Shaving Cream', 'Light Bulbs']         Homemaker   \n",
       "1  ['Ice Cream', 'Milk', 'Olive Oil', 'Bread', 'P...      Professional   \n",
       "\n",
       "   Season  Basket_Size Product_Category    Category Sub_Category  \\\n",
       "0  Winter            3          Ketchup  Condiments      Ketchup   \n",
       "1    Fall            5        Ice Cream       Dairy    Ice Cream   \n",
       "\n",
       "   Payment_Method           City       Store_Type  Discount_Applied  \\\n",
       "0  Mobile Payment    Los Angeles   Warehouse Club              True   \n",
       "1            Cash  San Francisco  Specialty Store              True   \n",
       "\n",
       "                Promotion  Unit_Price  Cost_Per_Item  Profit  Total_Items  \n",
       "0                     NaN       23.88          12.24   34.94            3  \n",
       "1  BOGO (Buy One Get One)       12.97           8.88    8.16            2  "
      ]
     },
     "execution_count": 3,
     "metadata": {},
     "output_type": "execute_result"
    }
   ],
   "source": [
    "df.head(2)"
   ]
  },
  {
   "cell_type": "markdown",
   "id": "90b4de74-7818-4dac-8a79-85f20db5c804",
   "metadata": {},
   "source": [
    "## View Sample data - Bottom Rows"
   ]
  },
  {
   "cell_type": "code",
   "execution_count": 4,
   "id": "cd1d9a52-cebe-4b9d-adbe-39a87ecaaf48",
   "metadata": {},
   "outputs": [
    {
     "data": {
      "text/html": [
       "<div>\n",
       "<style scoped>\n",
       "    .dataframe tbody tr th:only-of-type {\n",
       "        vertical-align: middle;\n",
       "    }\n",
       "\n",
       "    .dataframe tbody tr th {\n",
       "        vertical-align: top;\n",
       "    }\n",
       "\n",
       "    .dataframe thead th {\n",
       "        text-align: right;\n",
       "    }\n",
       "</style>\n",
       "<table border=\"1\" class=\"dataframe\">\n",
       "  <thead>\n",
       "    <tr style=\"text-align: right;\">\n",
       "      <th></th>\n",
       "      <th>Transaction_ID</th>\n",
       "      <th>Date</th>\n",
       "      <th>Customer_Name</th>\n",
       "      <th>Customer_ID</th>\n",
       "      <th>Product</th>\n",
       "      <th>Customer_Category</th>\n",
       "      <th>Season</th>\n",
       "      <th>Basket_Size</th>\n",
       "      <th>Product_Category</th>\n",
       "      <th>Category</th>\n",
       "      <th>Sub_Category</th>\n",
       "      <th>Payment_Method</th>\n",
       "      <th>City</th>\n",
       "      <th>Store_Type</th>\n",
       "      <th>Discount_Applied</th>\n",
       "      <th>Promotion</th>\n",
       "      <th>Unit_Price</th>\n",
       "      <th>Cost_Per_Item</th>\n",
       "      <th>Profit</th>\n",
       "      <th>Total_Items</th>\n",
       "    </tr>\n",
       "  </thead>\n",
       "  <tbody>\n",
       "    <tr>\n",
       "      <th>911</th>\n",
       "      <td>1000000997</td>\n",
       "      <td>10-01-2022 15:07</td>\n",
       "      <td>Jesse Lewis</td>\n",
       "      <td>707386</td>\n",
       "      <td>['Hair Gel', 'Yogurt']</td>\n",
       "      <td>Senior Citizen</td>\n",
       "      <td>Summer</td>\n",
       "      <td>2</td>\n",
       "      <td>Hair Gel</td>\n",
       "      <td>Personal Care</td>\n",
       "      <td>Hair Gel</td>\n",
       "      <td>Mobile Payment</td>\n",
       "      <td>Los Angeles</td>\n",
       "      <td>Convenience Store</td>\n",
       "      <td>False</td>\n",
       "      <td>BOGO (Buy One Get One)</td>\n",
       "      <td>3.69</td>\n",
       "      <td>1.63</td>\n",
       "      <td>8.26</td>\n",
       "      <td>4</td>\n",
       "    </tr>\n",
       "    <tr>\n",
       "      <th>912</th>\n",
       "      <td>1000000999</td>\n",
       "      <td>29-05-2020 14:07</td>\n",
       "      <td>William Anderson</td>\n",
       "      <td>785866</td>\n",
       "      <td>['Plant Fertilizer']</td>\n",
       "      <td>Retiree</td>\n",
       "      <td>Spring</td>\n",
       "      <td>1</td>\n",
       "      <td>Plant Fertilizer</td>\n",
       "      <td>Garden Tools</td>\n",
       "      <td>Plant Fertilizer</td>\n",
       "      <td>Debit Card</td>\n",
       "      <td>Atlanta</td>\n",
       "      <td>Supermarket</td>\n",
       "      <td>False</td>\n",
       "      <td>BOGO (Buy One Get One)</td>\n",
       "      <td>8.03</td>\n",
       "      <td>4.29</td>\n",
       "      <td>37.45</td>\n",
       "      <td>10</td>\n",
       "    </tr>\n",
       "  </tbody>\n",
       "</table>\n",
       "</div>"
      ],
      "text/plain": [
       "     Transaction_ID              Date     Customer_Name  Customer_ID  \\\n",
       "911      1000000997  10-01-2022 15:07       Jesse Lewis       707386   \n",
       "912      1000000999  29-05-2020 14:07  William Anderson       785866   \n",
       "\n",
       "                    Product Customer_Category  Season  Basket_Size  \\\n",
       "911  ['Hair Gel', 'Yogurt']    Senior Citizen  Summer            2   \n",
       "912    ['Plant Fertilizer']           Retiree  Spring            1   \n",
       "\n",
       "     Product_Category       Category      Sub_Category  Payment_Method  \\\n",
       "911          Hair Gel  Personal Care          Hair Gel  Mobile Payment   \n",
       "912  Plant Fertilizer   Garden Tools  Plant Fertilizer      Debit Card   \n",
       "\n",
       "            City         Store_Type  Discount_Applied               Promotion  \\\n",
       "911  Los Angeles  Convenience Store             False  BOGO (Buy One Get One)   \n",
       "912      Atlanta        Supermarket             False  BOGO (Buy One Get One)   \n",
       "\n",
       "     Unit_Price  Cost_Per_Item  Profit  Total_Items  \n",
       "911        3.69           1.63    8.26            4  \n",
       "912        8.03           4.29   37.45           10  "
      ]
     },
     "execution_count": 4,
     "metadata": {},
     "output_type": "execute_result"
    }
   ],
   "source": [
    "df.tail(2)"
   ]
  },
  {
   "cell_type": "markdown",
   "id": "bf3583f3-817b-482c-9ed8-54f132023fb0",
   "metadata": {},
   "source": [
    "## Describe"
   ]
  },
  {
   "cell_type": "code",
   "execution_count": 5,
   "id": "a1ff44eb-0acb-43f0-84b2-b353eabec92c",
   "metadata": {},
   "outputs": [
    {
     "data": {
      "text/html": [
       "<div>\n",
       "<style scoped>\n",
       "    .dataframe tbody tr th:only-of-type {\n",
       "        vertical-align: middle;\n",
       "    }\n",
       "\n",
       "    .dataframe tbody tr th {\n",
       "        vertical-align: top;\n",
       "    }\n",
       "\n",
       "    .dataframe thead th {\n",
       "        text-align: right;\n",
       "    }\n",
       "</style>\n",
       "<table border=\"1\" class=\"dataframe\">\n",
       "  <thead>\n",
       "    <tr style=\"text-align: right;\">\n",
       "      <th></th>\n",
       "      <th>Transaction_ID</th>\n",
       "      <th>Customer_ID</th>\n",
       "      <th>Basket_Size</th>\n",
       "      <th>Unit_Price</th>\n",
       "      <th>Cost_Per_Item</th>\n",
       "      <th>Profit</th>\n",
       "      <th>Total_Items</th>\n",
       "    </tr>\n",
       "  </thead>\n",
       "  <tbody>\n",
       "    <tr>\n",
       "      <th>count</th>\n",
       "      <td>9.130000e+02</td>\n",
       "      <td>913.000000</td>\n",
       "      <td>913.000000</td>\n",
       "      <td>913.000000</td>\n",
       "      <td>913.000000</td>\n",
       "      <td>913.000000</td>\n",
       "      <td>913.000000</td>\n",
       "    </tr>\n",
       "    <tr>\n",
       "      <th>mean</th>\n",
       "      <td>1.000000e+09</td>\n",
       "      <td>499216.153341</td>\n",
       "      <td>2.950712</td>\n",
       "      <td>14.999825</td>\n",
       "      <td>8.281643</td>\n",
       "      <td>23.728620</td>\n",
       "      <td>5.641840</td>\n",
       "    </tr>\n",
       "    <tr>\n",
       "      <th>std</th>\n",
       "      <td>2.887878e+02</td>\n",
       "      <td>290553.929633</td>\n",
       "      <td>1.396574</td>\n",
       "      <td>17.092290</td>\n",
       "      <td>9.766724</td>\n",
       "      <td>13.129939</td>\n",
       "      <td>2.848877</td>\n",
       "    </tr>\n",
       "    <tr>\n",
       "      <th>min</th>\n",
       "      <td>1.000000e+09</td>\n",
       "      <td>522.000000</td>\n",
       "      <td>1.000000</td>\n",
       "      <td>0.510000</td>\n",
       "      <td>0.220000</td>\n",
       "      <td>1.740000</td>\n",
       "      <td>1.000000</td>\n",
       "    </tr>\n",
       "    <tr>\n",
       "      <th>25%</th>\n",
       "      <td>1.000000e+09</td>\n",
       "      <td>246556.000000</td>\n",
       "      <td>2.000000</td>\n",
       "      <td>5.140000</td>\n",
       "      <td>2.780000</td>\n",
       "      <td>12.850000</td>\n",
       "      <td>3.000000</td>\n",
       "    </tr>\n",
       "    <tr>\n",
       "      <th>50%</th>\n",
       "      <td>1.000000e+09</td>\n",
       "      <td>512984.000000</td>\n",
       "      <td>3.000000</td>\n",
       "      <td>9.360000</td>\n",
       "      <td>5.010000</td>\n",
       "      <td>23.490000</td>\n",
       "      <td>6.000000</td>\n",
       "    </tr>\n",
       "    <tr>\n",
       "      <th>75%</th>\n",
       "      <td>1.000001e+09</td>\n",
       "      <td>740212.000000</td>\n",
       "      <td>4.000000</td>\n",
       "      <td>17.230000</td>\n",
       "      <td>9.240000</td>\n",
       "      <td>33.520000</td>\n",
       "      <td>8.000000</td>\n",
       "    </tr>\n",
       "    <tr>\n",
       "      <th>max</th>\n",
       "      <td>1.000001e+09</td>\n",
       "      <td>999045.000000</td>\n",
       "      <td>5.000000</td>\n",
       "      <td>98.520000</td>\n",
       "      <td>68.760000</td>\n",
       "      <td>58.830000</td>\n",
       "      <td>10.000000</td>\n",
       "    </tr>\n",
       "  </tbody>\n",
       "</table>\n",
       "</div>"
      ],
      "text/plain": [
       "       Transaction_ID    Customer_ID  Basket_Size  Unit_Price  Cost_Per_Item  \\\n",
       "count    9.130000e+02     913.000000   913.000000  913.000000     913.000000   \n",
       "mean     1.000000e+09  499216.153341     2.950712   14.999825       8.281643   \n",
       "std      2.887878e+02  290553.929633     1.396574   17.092290       9.766724   \n",
       "min      1.000000e+09     522.000000     1.000000    0.510000       0.220000   \n",
       "25%      1.000000e+09  246556.000000     2.000000    5.140000       2.780000   \n",
       "50%      1.000000e+09  512984.000000     3.000000    9.360000       5.010000   \n",
       "75%      1.000001e+09  740212.000000     4.000000   17.230000       9.240000   \n",
       "max      1.000001e+09  999045.000000     5.000000   98.520000      68.760000   \n",
       "\n",
       "           Profit  Total_Items  \n",
       "count  913.000000   913.000000  \n",
       "mean    23.728620     5.641840  \n",
       "std     13.129939     2.848877  \n",
       "min      1.740000     1.000000  \n",
       "25%     12.850000     3.000000  \n",
       "50%     23.490000     6.000000  \n",
       "75%     33.520000     8.000000  \n",
       "max     58.830000    10.000000  "
      ]
     },
     "execution_count": 5,
     "metadata": {},
     "output_type": "execute_result"
    }
   ],
   "source": [
    "df.describe()"
   ]
  },
  {
   "cell_type": "markdown",
   "id": "fcf56679-61d6-4101-bfc7-37389bb57415",
   "metadata": {},
   "source": [
    "## To view the Shape of dataset"
   ]
  },
  {
   "cell_type": "code",
   "execution_count": 6,
   "id": "8b2b41de-3631-402f-845f-d01a760cf5f2",
   "metadata": {},
   "outputs": [
    {
     "data": {
      "text/plain": [
       "(913, 20)"
      ]
     },
     "execution_count": 6,
     "metadata": {},
     "output_type": "execute_result"
    }
   ],
   "source": [
    "df.shape"
   ]
  },
  {
   "cell_type": "markdown",
   "id": "ae15beb7-36a7-480f-b464-c4d73ca2256d",
   "metadata": {},
   "source": [
    "## To change the Datatype for Date"
   ]
  },
  {
   "cell_type": "code",
   "execution_count": 7,
   "id": "a3ac604c-7f37-476d-a25a-9b6bc75d3cff",
   "metadata": {},
   "outputs": [],
   "source": [
    "df['Date'] = pd.to_datetime(df['Date'],format='%d-%m-%Y %H:%M')"
   ]
  },
  {
   "cell_type": "markdown",
   "id": "fc0260db-c518-4564-b8c3-138a0850b4fb",
   "metadata": {},
   "source": [
    "## To Check Datatypes for variables"
   ]
  },
  {
   "cell_type": "code",
   "execution_count": 8,
   "id": "63a571f1-0a46-4e91-93b3-5773a153cd97",
   "metadata": {},
   "outputs": [
    {
     "data": {
      "text/plain": [
       "Transaction_ID                int64\n",
       "Date                 datetime64[ns]\n",
       "Customer_Name                object\n",
       "Customer_ID                   int64\n",
       "Product                      object\n",
       "Customer_Category            object\n",
       "Season                       object\n",
       "Basket_Size                   int64\n",
       "Product_Category             object\n",
       "Category                     object\n",
       "Sub_Category                 object\n",
       "Payment_Method               object\n",
       "City                         object\n",
       "Store_Type                   object\n",
       "Discount_Applied               bool\n",
       "Promotion                    object\n",
       "Unit_Price                  float64\n",
       "Cost_Per_Item               float64\n",
       "Profit                      float64\n",
       "Total_Items                   int64\n",
       "dtype: object"
      ]
     },
     "execution_count": 8,
     "metadata": {},
     "output_type": "execute_result"
    }
   ],
   "source": [
    "df.dtypes"
   ]
  },
  {
   "cell_type": "markdown",
   "id": "c0ff4a5f-3c38-4af2-bf35-c4d534b1a98d",
   "metadata": {},
   "source": [
    "## Calculate Total_Cost"
   ]
  },
  {
   "cell_type": "code",
   "execution_count": 9,
   "id": "594ed00f-7a44-49b4-a93e-ced7fafd268d",
   "metadata": {},
   "outputs": [
    {
     "name": "stdout",
     "output_type": "stream",
     "text": [
      "0      36.72\n",
      "1      17.76\n",
      "2      22.80\n",
      "3       7.30\n",
      "4      32.28\n",
      "       ...  \n",
      "908    14.30\n",
      "909     7.00\n",
      "910     8.00\n",
      "911     6.52\n",
      "912    42.90\n",
      "Name: Total_Cost, Length: 913, dtype: float64\n"
     ]
    }
   ],
   "source": [
    "df['Total_Cost'] = df['Cost_Per_Item'] * df['Total_Items']\n",
    "print (df['Total_Cost']);"
   ]
  },
  {
   "cell_type": "markdown",
   "id": "31400cee-eb3e-4a65-bba1-694769d1f1d5",
   "metadata": {},
   "source": [
    "## Calculate Total_Sales"
   ]
  },
  {
   "cell_type": "code",
   "execution_count": 10,
   "id": "69dfc654-e167-45a6-97d1-15fdcfdaf6bf",
   "metadata": {},
   "outputs": [
    {
     "name": "stdout",
     "output_type": "stream",
     "text": [
      "0      71.64\n",
      "1      25.94\n",
      "2      39.34\n",
      "3      16.40\n",
      "4      72.24\n",
      "       ...  \n",
      "908    28.10\n",
      "909    16.30\n",
      "910    11.85\n",
      "911    14.76\n",
      "912    80.30\n",
      "Name: Total_Sales, Length: 913, dtype: float64\n"
     ]
    }
   ],
   "source": [
    "df['Total_Sales'] = df['Unit_Price'] * df['Total_Items']\n",
    "print (df['Total_Sales']);"
   ]
  },
  {
   "cell_type": "markdown",
   "id": "6b163c98-f166-49c9-9b79-f30de4bb0ba3",
   "metadata": {},
   "source": [
    "## Total Profit_Margin_Sales"
   ]
  },
  {
   "cell_type": "code",
   "execution_count": 11,
   "id": "3b0a8ed3-104e-4c35-8c00-6462e899edde",
   "metadata": {},
   "outputs": [
    {
     "name": "stdout",
     "output_type": "stream",
     "text": [
      "0      48.771636\n",
      "1      31.457209\n",
      "2      42.043721\n",
      "3      55.365854\n",
      "4      55.315615\n",
      "         ...    \n",
      "908    49.145907\n",
      "909    57.300613\n",
      "910    32.489451\n",
      "911    55.962060\n",
      "912    46.637609\n",
      "Name: Profit_Margin_Sales, Length: 913, dtype: float64\n"
     ]
    }
   ],
   "source": [
    "df['Profit_Margin_Sales'] = (df['Profit'] / df['Total_Sales']) * 100\n",
    "print (df['Profit_Margin_Sales']);"
   ]
  },
  {
   "cell_type": "markdown",
   "id": "58c66618-9c26-49a9-bfee-338846af06a7",
   "metadata": {},
   "source": [
    "## Total Profit_Margin_Cost"
   ]
  },
  {
   "cell_type": "code",
   "execution_count": 12,
   "id": "7af7782c-bf45-4b5a-93fd-79d66d063e0b",
   "metadata": {},
   "outputs": [
    {
     "name": "stdout",
     "output_type": "stream",
     "text": [
      "0       95.152505\n",
      "1       45.945946\n",
      "2       72.543860\n",
      "3      124.383562\n",
      "4      123.791822\n",
      "          ...    \n",
      "908     96.573427\n",
      "909    133.428571\n",
      "910     48.125000\n",
      "911    126.687117\n",
      "912     87.296037\n",
      "Name: Profit_Margin_Cost, Length: 913, dtype: float64\n"
     ]
    }
   ],
   "source": [
    "df['Profit_Margin_Cost'] = (df['Profit'] / df['Total_Cost']) * 100\n",
    "print (df['Profit_Margin_Cost']);"
   ]
  },
  {
   "cell_type": "markdown",
   "id": "a89beac4-c891-4c2d-b285-d2060c14cb84",
   "metadata": {},
   "source": [
    "## Sales Aggregations: Total_Sales, Avg_Sales, Total_Cost, Total_Profit, Avg_Profit"
   ]
  },
  {
   "cell_type": "code",
   "execution_count": 13,
   "id": "6c6bf161-2369-4506-af83-2a8244f7ca47",
   "metadata": {},
   "outputs": [
    {
     "name": "stdout",
     "output_type": "stream",
     "text": [
      "Total Sales: $47,983.00\n",
      "Total Cost: $26,316.84\n",
      "Total Profit: $21,664.23\n",
      "Average Sales: $52.56\n",
      "Average Profit: $23.73\n",
      "No of Items: 913.00\n",
      "Profit Margin Sales: $41,363.55\n",
      "Profit Margin Cost: $80,102.32\n"
     ]
    }
   ],
   "source": [
    "Total_Sales = df[\"Total_Sales\"].sum()\n",
    "Total_Profit = df[\"Profit\"].sum()\n",
    "Total_Cost = df[\"Total_Cost\"].sum()\n",
    "Average_Sales = df[\"Total_Sales\"].mean()\n",
    "Average_Profit = df[\"Profit\"].mean()\n",
    "No_of_Items = df[\"Product\"].count()\n",
    "Profit_Margin_Sales = df[\"Profit_Margin_Sales\"].sum()\n",
    "Profit_Margin_Cost = df[\"Profit_Margin_Cost\"].sum()\n",
    "print(f\"Total Sales: ${Total_Sales:,.2f}\")\n",
    "print(f\"Total Cost: ${Total_Cost:,.2f}\")\n",
    "print(f\"Total Profit: ${Total_Profit:,.2f}\")\n",
    "print(f\"Average Sales: ${Average_Sales:,.2f}\")\n",
    "print(f\"Average Profit: ${Average_Profit:,.2f}\")\n",
    "print(f\"No of Items: {No_of_Items:,.2f}\")\n",
    "print(f\"Profit Margin Sales: ${Profit_Margin_Sales:,.2f}\")\n",
    "print(f\"Profit Margin Cost: ${Profit_Margin_Cost:,.2f}\")"
   ]
  },
  {
   "cell_type": "markdown",
   "id": "763e2900-3812-4c8c-b511-d9e351b79148",
   "metadata": {},
   "source": [
    "## To check Null Values"
   ]
  },
  {
   "cell_type": "code",
   "execution_count": 14,
   "id": "448025c5-2c7f-4ab7-933e-d42ffc490d68",
   "metadata": {},
   "outputs": [
    {
     "name": "stdout",
     "output_type": "stream",
     "text": [
      "Transaction_ID           0\n",
      "Date                     0\n",
      "Customer_Name            0\n",
      "Customer_ID              0\n",
      "Product                  0\n",
      "Customer_Category        0\n",
      "Season                   0\n",
      "Basket_Size              0\n",
      "Product_Category         0\n",
      "Category                 0\n",
      "Sub_Category             0\n",
      "Payment_Method           0\n",
      "City                     0\n",
      "Store_Type               0\n",
      "Discount_Applied         0\n",
      "Promotion              328\n",
      "Unit_Price               0\n",
      "Cost_Per_Item            0\n",
      "Profit                   0\n",
      "Total_Items              0\n",
      "Total_Cost               0\n",
      "Total_Sales              0\n",
      "Profit_Margin_Sales      0\n",
      "Profit_Margin_Cost       0\n",
      "dtype: int64\n"
     ]
    }
   ],
   "source": [
    "print(df.isnull().sum())"
   ]
  },
  {
   "cell_type": "markdown",
   "id": "b61facc2-3813-4a84-8ae7-11aa33c127f5",
   "metadata": {},
   "source": [
    "## To check Unique: Category, Store_type, Promotion"
   ]
  },
  {
   "cell_type": "code",
   "execution_count": 15,
   "id": "0cb721b5-f13b-4387-aaf0-0e147892dfdc",
   "metadata": {},
   "outputs": [
    {
     "name": "stdout",
     "output_type": "stream",
     "text": [
      "['Condiments' 'Dairy' 'Cleaning Supplies' 'Personal Care'\n",
      " 'Pantry & Snacks' 'Other' 'Household Electronics' 'Beverages'\n",
      " 'Meat & Seafood' 'Grains & Bakery' 'Home & Misc' 'Cleaning Equipment'\n",
      " 'Garden Tools' 'Vegetables' 'Fruits' 'Baby Care']\n"
     ]
    }
   ],
   "source": [
    "print(df['Category'].unique())"
   ]
  },
  {
   "cell_type": "code",
   "execution_count": 16,
   "id": "32caafbb-b1e2-41bf-ae3b-2e18bc9f3767",
   "metadata": {},
   "outputs": [
    {
     "name": "stdout",
     "output_type": "stream",
     "text": [
      "['Warehouse Club' 'Specialty Store' 'Pharmacy' 'Supermarket'\n",
      " 'Convenience Store' 'Department Store']\n"
     ]
    }
   ],
   "source": [
    "print(df['Store_Type'].unique())"
   ]
  },
  {
   "cell_type": "code",
   "execution_count": 17,
   "id": "2bb7e2ef-8cd0-4652-a793-6866d9fe0340",
   "metadata": {},
   "outputs": [
    {
     "name": "stdout",
     "output_type": "stream",
     "text": [
      "[nan 'BOGO (Buy One Get One)' 'Discount on Selected Items']\n"
     ]
    }
   ],
   "source": [
    "print(df['Promotion'].unique())"
   ]
  },
  {
   "cell_type": "markdown",
   "id": "8703afc0-aa0b-4ba1-98b6-47b95259f6ec",
   "metadata": {},
   "source": [
    "## To view the Columns of dataset"
   ]
  },
  {
   "cell_type": "code",
   "execution_count": 18,
   "id": "e5f9c938-7856-4900-860c-fb67f2c0a281",
   "metadata": {},
   "outputs": [
    {
     "data": {
      "text/plain": [
       "Index(['Transaction_ID', 'Date', 'Customer_Name', 'Customer_ID', 'Product',\n",
       "       'Customer_Category', 'Season', 'Basket_Size', 'Product_Category',\n",
       "       'Category', 'Sub_Category', 'Payment_Method', 'City', 'Store_Type',\n",
       "       'Discount_Applied', 'Promotion', 'Unit_Price', 'Cost_Per_Item',\n",
       "       'Profit', 'Total_Items', 'Total_Cost', 'Total_Sales',\n",
       "       'Profit_Margin_Sales', 'Profit_Margin_Cost'],\n",
       "      dtype='object')"
      ]
     },
     "execution_count": 18,
     "metadata": {},
     "output_type": "execute_result"
    }
   ],
   "source": [
    "df.columns"
   ]
  },
  {
   "cell_type": "markdown",
   "id": "bb63996b-2560-4649-98ee-0547d7bad3a9",
   "metadata": {},
   "source": [
    "# SQLite Part"
   ]
  },
  {
   "cell_type": "markdown",
   "id": "93a2e48f-4fa7-431e-bd53-c365d0bde698",
   "metadata": {},
   "source": [
    "## Load CSV into SQLite to Run SQL Queries"
   ]
  },
  {
   "cell_type": "code",
   "execution_count": 3,
   "id": "6707d867-99de-4d01-9a49-feb04d47ae27",
   "metadata": {},
   "outputs": [],
   "source": [
    "import pandas as pd\n",
    "import sqlite3\n",
    "\n",
    "# Step 1: Load CSV into a DataFrame\n",
    "df = pd.read_csv(\"C:/Users/91998/Desktop/Using another Dataset for Practicing or real one/Retail_Sales_Data - Copy.csv\")\n",
    "\n",
    "# Step 2: Create an in-memory SQLite database (or save it to a file)\n",
    "conn = sqlite3.connect(':memory:')  # Or use 'my_database.sqlite' to save to file\n",
    "\n",
    "# Step 3: Write the DataFrame into the database as a table\n",
    "df.to_sql('sales_data', conn, index=False, if_exists='replace')\n",
    "\n",
    "# Add columns to the DataFrame\n",
    "\n",
    "df['Total_Cost'] = df['Cost_Per_Item'] * df['Total_Items']\n",
    "df['Total_Sales'] = df['Unit_Price'] * df['Total_Items']\n",
    "df['Profit_Margin_Sales'] = (df['Profit'] / df['Total_Sales']) * 100\n",
    "\n"
   ]
  },
  {
   "cell_type": "markdown",
   "id": "04f9f94e-7720-4d1b-8eab-fbaa5ab8d553",
   "metadata": {},
   "source": [
    "## To Calculate Profit Margins by \"Category\""
   ]
  },
  {
   "cell_type": "code",
   "execution_count": 20,
   "id": "ec320fa7-388a-4cc4-9df7-004229e2b429",
   "metadata": {},
   "outputs": [
    {
     "name": "stdout",
     "output_type": "stream",
     "text": [
      "                Category  Total_Profit  Total_Sales  Profit_Margin_Sales\n",
      "0            Home & Misc        976.59      2071.79              47.1375\n",
      "1                  Other       1397.01      2970.37              47.0315\n",
      "2                  Dairy        571.20      1238.21              46.1311\n",
      "3             Vegetables       1451.96      3160.08              45.9469\n",
      "4      Cleaning Supplies       2063.58      4514.48              45.7102\n",
      "5          Personal Care       2878.45      6324.43              45.5132\n",
      "6              Baby Care        450.14       989.41              45.4958\n",
      "7  Household Electronics       1547.93      3410.81              45.3831\n",
      "8        Grains & Bakery       1844.25      4068.87              45.3259\n",
      "9           Garden Tools        911.27      2015.13              45.2214\n"
     ]
    }
   ],
   "source": [
    "query = \"\"\"\n",
    "SELECT \n",
    "    Category,\n",
    "    SUM(Profit) AS Total_Profit,\n",
    "    SUM(Unit_Price * Total_Items) As Total_Sales,\n",
    "    ROUND(SUM(Profit)*100 / SUM(Unit_Price * Total_Items), 4) AS Profit_Margin_Sales\n",
    "    From sales_data\n",
    "    GROUP BY Category\n",
    "    ORDER BY Profit_Margin_Sales DESC\n",
    "    Limit 10;\n",
    "\"\"\"\n",
    "result = pd.read_sql_query(query,conn)\n",
    "print (result);"
   ]
  },
  {
   "cell_type": "markdown",
   "id": "ca4def9e-3d71-494e-9792-d81952e8ce3a",
   "metadata": {},
   "source": [
    "## To Calculate Profit Margins by \"Sub_Category\""
   ]
  },
  {
   "cell_type": "code",
   "execution_count": 21,
   "id": "270dd3b7-7cea-4da6-8257-f467b2be24a5",
   "metadata": {},
   "outputs": [
    {
     "name": "stdout",
     "output_type": "stream",
     "text": [
      "       Sub_Category  Total_Profit  Total_Sales  Profit_Margin_Sales\n",
      "0         Dish Soap        348.34       679.34              51.2762\n",
      "1           Diapers        128.35       250.35              51.2682\n",
      "2        Lawn Mower        309.44       611.98              50.5637\n",
      "3  Insect Repellent        431.57       855.10              50.4701\n",
      "4          Tomatoes        221.24       440.52              50.2225\n",
      "5        Trash Bags        200.63       401.67              49.9490\n",
      "6          Hair Gel        194.89       393.75              49.4959\n",
      "7               Jam        172.60       349.22              49.4244\n",
      "8          Dishware        228.60       465.31              49.1285\n",
      "9             Chips        180.55       367.99              49.0638\n"
     ]
    }
   ],
   "source": [
    "query1 = \"\"\"\n",
    "SELECT \n",
    "    Sub_Category,\n",
    "    SUM(Profit) AS Total_Profit,\n",
    "    SUM(Unit_Price * Total_Items) As Total_Sales,\n",
    "    ROUND(SUM(Profit)*100 / SUM(Unit_Price * Total_Items), 4) AS Profit_Margin_Sales\n",
    "    From sales_data\n",
    "    GROUP BY Sub_Category\n",
    "    ORDER BY Profit_Margin_Sales DESC\n",
    "    Limit 10;\n",
    "\"\"\"\n",
    "result = pd.read_sql_query(query1,conn)\n",
    "print (result);"
   ]
  },
  {
   "cell_type": "markdown",
   "id": "615d816d-e6a8-49d9-bcf8-969b8c5f8a7d",
   "metadata": {},
   "source": [
    "## To Calculate Season Wise Top Category products "
   ]
  },
  {
   "cell_type": "code",
   "execution_count": 4,
   "id": "23a8ad8d-0200-4838-9abe-640ddd4b3149",
   "metadata": {},
   "outputs": [
    {
     "name": "stdout",
     "output_type": "stream",
     "text": [
      "            Category  Season  Total_Sales\n",
      "0      Personal Care  Spring      1965.36\n",
      "1      Personal Care    Fall      1778.85\n",
      "2    Pantry & Snacks  Winter      1707.31\n",
      "3  Cleaning Supplies  Winter      1552.35\n",
      "4    Grains & Bakery  Winter      1535.47\n",
      "5    Pantry & Snacks  Summer      1409.76\n",
      "6      Personal Care  Summer      1388.69\n",
      "7    Pantry & Snacks    Fall      1307.61\n",
      "8      Personal Care  Winter      1191.53\n",
      "9    Pantry & Snacks  Spring      1181.67\n"
     ]
    }
   ],
   "source": [
    "query2 = \"\"\"\n",
    "SELECT\n",
    "    Category,Season,\n",
    "    SUM(Unit_Price * Total_Items) AS Total_Sales\n",
    "FROM Sales_Data\n",
    "GROUP BY Season, Category\n",
    "ORDER BY Total_Sales DESC\n",
    "LIMIT 10;\n",
    "\"\"\"\n",
    "result = pd.read_sql_query(query2, conn)\n",
    "print(result)"
   ]
  },
  {
   "cell_type": "markdown",
   "id": "050f985a-937f-4be8-bf20-f4b1d4cbd7da",
   "metadata": {},
   "source": [
    "## To Calculate slow-moving and overstocked items"
   ]
  },
  {
   "cell_type": "code",
   "execution_count": 22,
   "id": "17bdda87-7209-4033-b35a-ac9a6cd70dcb",
   "metadata": {},
   "outputs": [],
   "source": [
    "slow_sales_threshold = df['Total_Items'].quantile(0.25)\n",
    "overstock_threshold = df['Total_Items'].quantile(0.75)\n",
    "low_profit_margin_threshold = df['Profit_Margin_Sales'].quantile(0.25)\n",
    "\n",
    "df['is_slow_moving'] = df['Total_Items'] < slow_sales_threshold\n",
    "\n",
    "df['is_overstocked'] = (df['Total_Items'] > overstock_threshold) & \\\n",
    "                       (df['Profit_Margin_Sales'] < low_profit_margin_threshold)"
   ]
  },
  {
   "cell_type": "code",
   "execution_count": 23,
   "id": "6aae87fc-9eed-4de0-be73-1fe963bbb25e",
   "metadata": {},
   "outputs": [
    {
     "data": {
      "text/html": [
       "<div>\n",
       "<style scoped>\n",
       "    .dataframe tbody tr th:only-of-type {\n",
       "        vertical-align: middle;\n",
       "    }\n",
       "\n",
       "    .dataframe tbody tr th {\n",
       "        vertical-align: top;\n",
       "    }\n",
       "\n",
       "    .dataframe thead th {\n",
       "        text-align: right;\n",
       "    }\n",
       "</style>\n",
       "<table border=\"1\" class=\"dataframe\">\n",
       "  <thead>\n",
       "    <tr style=\"text-align: right;\">\n",
       "      <th></th>\n",
       "      <th></th>\n",
       "      <th>Total_Items</th>\n",
       "      <th>Profit</th>\n",
       "      <th>Product</th>\n",
       "    </tr>\n",
       "    <tr>\n",
       "      <th>Category</th>\n",
       "      <th>Sub_Category</th>\n",
       "      <th></th>\n",
       "      <th></th>\n",
       "      <th></th>\n",
       "    </tr>\n",
       "  </thead>\n",
       "  <tbody>\n",
       "    <tr>\n",
       "      <th rowspan=\"2\" valign=\"top\">Baby Care</th>\n",
       "      <th>Baby Wipes</th>\n",
       "      <td>94</td>\n",
       "      <td>321.79</td>\n",
       "      <td>10</td>\n",
       "    </tr>\n",
       "    <tr>\n",
       "      <th>Diapers</th>\n",
       "      <td>25</td>\n",
       "      <td>128.35</td>\n",
       "      <td>4</td>\n",
       "    </tr>\n",
       "    <tr>\n",
       "      <th rowspan=\"2\" valign=\"top\">Beverages</th>\n",
       "      <th>Coffee</th>\n",
       "      <td>62</td>\n",
       "      <td>366.86</td>\n",
       "      <td>10</td>\n",
       "    </tr>\n",
       "    <tr>\n",
       "      <th>Tea</th>\n",
       "      <td>60</td>\n",
       "      <td>223.26</td>\n",
       "      <td>10</td>\n",
       "    </tr>\n",
       "    <tr>\n",
       "      <th>Cleaning Equipment</th>\n",
       "      <th>Broom</th>\n",
       "      <td>59</td>\n",
       "      <td>224.82</td>\n",
       "      <td>8</td>\n",
       "    </tr>\n",
       "    <tr>\n",
       "      <th>...</th>\n",
       "      <th>...</th>\n",
       "      <td>...</td>\n",
       "      <td>...</td>\n",
       "      <td>...</td>\n",
       "    </tr>\n",
       "    <tr>\n",
       "      <th rowspan=\"5\" valign=\"top\">Vegetables</th>\n",
       "      <th>Carrots</th>\n",
       "      <td>77</td>\n",
       "      <td>371.23</td>\n",
       "      <td>10</td>\n",
       "    </tr>\n",
       "    <tr>\n",
       "      <th>Onions</th>\n",
       "      <td>92</td>\n",
       "      <td>374.06</td>\n",
       "      <td>12</td>\n",
       "    </tr>\n",
       "    <tr>\n",
       "      <th>Potatoes</th>\n",
       "      <td>57</td>\n",
       "      <td>239.77</td>\n",
       "      <td>13</td>\n",
       "    </tr>\n",
       "    <tr>\n",
       "      <th>Spinach</th>\n",
       "      <td>52</td>\n",
       "      <td>245.66</td>\n",
       "      <td>9</td>\n",
       "    </tr>\n",
       "    <tr>\n",
       "      <th>Tomatoes</th>\n",
       "      <td>36</td>\n",
       "      <td>221.24</td>\n",
       "      <td>8</td>\n",
       "    </tr>\n",
       "  </tbody>\n",
       "</table>\n",
       "<p>81 rows × 3 columns</p>\n",
       "</div>"
      ],
      "text/plain": [
       "                                 Total_Items  Profit  Product\n",
       "Category           Sub_Category                              \n",
       "Baby Care          Baby Wipes             94  321.79       10\n",
       "                   Diapers                25  128.35        4\n",
       "Beverages          Coffee                 62  366.86       10\n",
       "                   Tea                    60  223.26       10\n",
       "Cleaning Equipment Broom                  59  224.82        8\n",
       "...                                      ...     ...      ...\n",
       "Vegetables         Carrots                77  371.23       10\n",
       "                   Onions                 92  374.06       12\n",
       "                   Potatoes               57  239.77       13\n",
       "                   Spinach                52  245.66        9\n",
       "                   Tomatoes               36  221.24        8\n",
       "\n",
       "[81 rows x 3 columns]"
      ]
     },
     "execution_count": 23,
     "metadata": {},
     "output_type": "execute_result"
    }
   ],
   "source": [
    "df.groupby(['Category', 'Sub_Category']).agg({\n",
    "    'Total_Items': 'sum',\n",
    "    'Profit': 'sum',\n",
    "    'Product': pd.Series.nunique\n",
    "})"
   ]
  },
  {
   "cell_type": "code",
   "execution_count": 24,
   "id": "b1dbd7d9-f69e-41f5-bc31-870a53c3317b",
   "metadata": {},
   "outputs": [
    {
     "name": "stdout",
     "output_type": "stream",
     "text": [
      "is_slow_moving\n",
      "False    745\n",
      "True     168\n",
      "Name: count, dtype: int64\n",
      "is_overstocked\n",
      "False    873\n",
      "True      40\n",
      "Name: count, dtype: int64\n"
     ]
    },
    {
     "data": {
      "text/html": [
       "<div>\n",
       "<style scoped>\n",
       "    .dataframe tbody tr th:only-of-type {\n",
       "        vertical-align: middle;\n",
       "    }\n",
       "\n",
       "    .dataframe tbody tr th {\n",
       "        vertical-align: top;\n",
       "    }\n",
       "\n",
       "    .dataframe thead th {\n",
       "        text-align: right;\n",
       "    }\n",
       "</style>\n",
       "<table border=\"1\" class=\"dataframe\">\n",
       "  <thead>\n",
       "    <tr style=\"text-align: right;\">\n",
       "      <th></th>\n",
       "      <th>is_slow_moving</th>\n",
       "      <th>is_overstocked</th>\n",
       "    </tr>\n",
       "    <tr>\n",
       "      <th>Category</th>\n",
       "      <th></th>\n",
       "      <th></th>\n",
       "    </tr>\n",
       "  </thead>\n",
       "  <tbody>\n",
       "    <tr>\n",
       "      <th>Personal Care</th>\n",
       "      <td>25</td>\n",
       "      <td>3</td>\n",
       "    </tr>\n",
       "    <tr>\n",
       "      <th>Pantry &amp; Snacks</th>\n",
       "      <td>21</td>\n",
       "      <td>4</td>\n",
       "    </tr>\n",
       "    <tr>\n",
       "      <th>Cleaning Supplies</th>\n",
       "      <td>18</td>\n",
       "      <td>4</td>\n",
       "    </tr>\n",
       "    <tr>\n",
       "      <th>Household Electronics</th>\n",
       "      <td>13</td>\n",
       "      <td>3</td>\n",
       "    </tr>\n",
       "    <tr>\n",
       "      <th>Meat &amp; Seafood</th>\n",
       "      <td>13</td>\n",
       "      <td>4</td>\n",
       "    </tr>\n",
       "    <tr>\n",
       "      <th>Grains &amp; Bakery</th>\n",
       "      <td>12</td>\n",
       "      <td>5</td>\n",
       "    </tr>\n",
       "    <tr>\n",
       "      <th>Vegetables</th>\n",
       "      <td>12</td>\n",
       "      <td>2</td>\n",
       "    </tr>\n",
       "    <tr>\n",
       "      <th>Other</th>\n",
       "      <td>10</td>\n",
       "      <td>1</td>\n",
       "    </tr>\n",
       "    <tr>\n",
       "      <th>Cleaning Equipment</th>\n",
       "      <td>9</td>\n",
       "      <td>3</td>\n",
       "    </tr>\n",
       "    <tr>\n",
       "      <th>Fruits</th>\n",
       "      <td>8</td>\n",
       "      <td>0</td>\n",
       "    </tr>\n",
       "    <tr>\n",
       "      <th>Condiments</th>\n",
       "      <td>7</td>\n",
       "      <td>4</td>\n",
       "    </tr>\n",
       "    <tr>\n",
       "      <th>Home &amp; Misc</th>\n",
       "      <td>6</td>\n",
       "      <td>3</td>\n",
       "    </tr>\n",
       "    <tr>\n",
       "      <th>Dairy</th>\n",
       "      <td>5</td>\n",
       "      <td>0</td>\n",
       "    </tr>\n",
       "    <tr>\n",
       "      <th>Garden Tools</th>\n",
       "      <td>4</td>\n",
       "      <td>0</td>\n",
       "    </tr>\n",
       "    <tr>\n",
       "      <th>Beverages</th>\n",
       "      <td>3</td>\n",
       "      <td>2</td>\n",
       "    </tr>\n",
       "    <tr>\n",
       "      <th>Baby Care</th>\n",
       "      <td>2</td>\n",
       "      <td>2</td>\n",
       "    </tr>\n",
       "  </tbody>\n",
       "</table>\n",
       "</div>"
      ],
      "text/plain": [
       "                       is_slow_moving  is_overstocked\n",
       "Category                                             \n",
       "Personal Care                      25               3\n",
       "Pantry & Snacks                    21               4\n",
       "Cleaning Supplies                  18               4\n",
       "Household Electronics              13               3\n",
       "Meat & Seafood                     13               4\n",
       "Grains & Bakery                    12               5\n",
       "Vegetables                         12               2\n",
       "Other                              10               1\n",
       "Cleaning Equipment                  9               3\n",
       "Fruits                              8               0\n",
       "Condiments                          7               4\n",
       "Home & Misc                         6               3\n",
       "Dairy                               5               0\n",
       "Garden Tools                        4               0\n",
       "Beverages                           3               2\n",
       "Baby Care                           2               2"
      ]
     },
     "execution_count": 24,
     "metadata": {},
     "output_type": "execute_result"
    }
   ],
   "source": [
    "# Count of flagged products\n",
    "print(df['is_slow_moving'].value_counts())\n",
    "print(df['is_overstocked'].value_counts())\n",
    "\n",
    "\n",
    "# Grouped analysis by Category or Sub_Category\n",
    "df.groupby('Category')[['is_slow_moving', 'is_overstocked']].sum().sort_values(by='is_slow_moving', ascending=False)"
   ]
  },
  {
   "cell_type": "code",
   "execution_count": 25,
   "id": "7ada9275-5335-4d4b-ab83-c3e5082b1b6e",
   "metadata": {},
   "outputs": [
    {
     "name": "stdout",
     "output_type": "stream",
     "text": [
      "Index(['Transaction_ID', 'Date', 'Customer_Name', 'Customer_ID', 'Product',\n",
      "       'Customer_Category', 'Season', 'Basket_Size', 'Product_Category',\n",
      "       'Category', 'Sub_Category', 'Payment_Method', 'City', 'Store_Type',\n",
      "       'Discount_Applied', 'Promotion', 'Unit_Price', 'Cost_Per_Item',\n",
      "       'Profit', 'Total_Items', 'Total_Cost', 'Total_Sales',\n",
      "       'Profit_Margin_Sales', 'is_slow_moving', 'is_overstocked'],\n",
      "      dtype='object')\n"
     ]
    }
   ],
   "source": [
    "print(df.columns)"
   ]
  },
  {
   "cell_type": "code",
   "execution_count": 26,
   "id": "d4a02441-8294-491d-b9d3-69fb33da76cd",
   "metadata": {},
   "outputs": [],
   "source": [
    "df.to_csv(r'C:\\Users\\91998\\Desktop\\Using another Dataset for Practicing or real one\\Exported_Retail_Data - Copy.csv', index=False)"
   ]
  },
  {
   "cell_type": "code",
   "execution_count": null,
   "id": "0146d1ab-2466-47d0-b0ff-5306aa3b6bf7",
   "metadata": {},
   "outputs": [],
   "source": []
  }
 ],
 "metadata": {
  "kernelspec": {
   "display_name": "Python 3 (ipykernel)",
   "language": "python",
   "name": "python3"
  },
  "language_info": {
   "codemirror_mode": {
    "name": "ipython",
    "version": 3
   },
   "file_extension": ".py",
   "mimetype": "text/x-python",
   "name": "python",
   "nbconvert_exporter": "python",
   "pygments_lexer": "ipython3",
   "version": "3.12.7"
  }
 },
 "nbformat": 4,
 "nbformat_minor": 5
}
